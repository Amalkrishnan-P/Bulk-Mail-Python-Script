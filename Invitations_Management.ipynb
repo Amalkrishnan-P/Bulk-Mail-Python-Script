{
 "cells": [
  {
   "cell_type": "code",
   "execution_count": 10,
   "id": "309ed0b1-08ac-4ff9-b477-2f0e0c574a53",
   "metadata": {},
   "outputs": [
    {
     "name": "stdout",
     "output_type": "stream",
     "text": [
      "All invitations created.\n"
     ]
    }
   ],
   "source": [
    "import os\n",
    "import zipfile\n",
    "import shutil\n",
    "\n",
    "# Company list\n",
    "companies = [\"BCG\", \"ORACLE Financial Services\"] \n",
    "\n",
    "# Paths\n",
    "template_path = \"Invitation_to_CET_Management.docx\"\n",
    "output_folder = \"Invitations_Management\"\n",
    "os.makedirs(output_folder, exist_ok=True)\n",
    "\n",
    "def generate_personalized_doc(company_name, index):\n",
    "    # temp folder for unzip/edit\n",
    "    temp_folder = f\"temp_{index}\"\n",
    "    if os.path.exists(temp_folder):\n",
    "        shutil.rmtree(temp_folder)\n",
    "    os.makedirs(temp_folder)\n",
    "\n",
    "    with zipfile.ZipFile(template_path, 'r') as zip_ref:\n",
    "        zip_ref.extractall(temp_folder)\n",
    "\n",
    "    # document.xml (main body)\n",
    "    doc_path = os.path.join(temp_folder, \"word\", \"document.xml\")\n",
    "    with open(doc_path, \"r\", encoding=\"utf-8\") as file:\n",
    "        content = file.read()\n",
    "\n",
    "    # replace placeholder\n",
    "    content = content.replace(\"[Company Name]\", company_name)\n",
    "\n",
    "    # write back modified content\n",
    "    with open(doc_path, \"w\", encoding=\"utf-8\") as file:\n",
    "        file.write(content)\n",
    "\n",
    "    # create new docx\n",
    "    output_docx = os.path.join(output_folder, f\"Invitation_{index}_{company_name.replace(' ', '_')}.docx\")\n",
    "    shutil.make_archive(\"temp_doc\", 'zip', temp_folder)\n",
    "    shutil.move(\"temp_doc.zip\", output_docx)\n",
    "\n",
    "    # delete temp\n",
    "    shutil.rmtree(temp_folder)\n",
    "\n",
    "for idx, company in enumerate(companies, 1):\n",
    "    generate_personalized_doc(company, idx)\n",
    "\n",
    "print(f\"All invitations created.\")\n"
   ]
  },
  {
   "cell_type": "code",
   "execution_count": null,
   "id": "e8d89840-c86f-4ea2-a7fe-3c5151e3a907",
   "metadata": {},
   "outputs": [],
   "source": []
  },
  {
   "cell_type": "code",
   "execution_count": null,
   "id": "803f8e0b-8d8a-43d1-af07-edcb8fcc10d4",
   "metadata": {},
   "outputs": [],
   "source": []
  }
 ],
 "metadata": {
  "kernelspec": {
   "display_name": "Python 3 (ipykernel)",
   "language": "python",
   "name": "python3"
  },
  "language_info": {
   "codemirror_mode": {
    "name": "ipython",
    "version": 3
   },
   "file_extension": ".py",
   "mimetype": "text/x-python",
   "name": "python",
   "nbconvert_exporter": "python",
   "pygments_lexer": "ipython3",
   "version": "3.12.7"
  }
 },
 "nbformat": 4,
 "nbformat_minor": 5
}
