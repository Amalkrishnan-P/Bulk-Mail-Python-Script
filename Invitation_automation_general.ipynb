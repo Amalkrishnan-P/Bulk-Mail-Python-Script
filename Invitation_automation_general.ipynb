{
 "cells": [
  {
   "cell_type": "code",
   "execution_count": 21,
   "id": "9740829f-1621-4f22-8c52-d1196f10991c",
   "metadata": {},
   "outputs": [
    {
     "name": "stdout",
     "output_type": "stream",
     "text": [
      "Word documents saved in: 'Company_Invitations_General' folder\n"
     ]
    }
   ],
   "source": [
    "import os\n",
    "from docx import Document\n",
    "\n",
    "# List of company names \n",
    "companies = [\n",
    "    \"AMD\", \"Microsoft\", \"Amazon\", \"Adobe\", \"Saudi Aramco\",\n",
    "    \"BPCL\", \"BYD\", \"IBM\"\n",
    "    \n",
    "    # ... add all companies\n",
    "]\n",
    "\n",
    "# folder in the same directory as the notebook\n",
    "folder_name = \"Company_Invitations_General\"\n",
    "os.makedirs(folder_name, exist_ok=True)\n",
    "\n",
    "# email template\n",
    "email_template = \"\"\"\n",
    "        Subject: Placement/Internship request- College of Engineering Trivandrum, Kerala\n",
    "        Greetings from the Placement cell, College of Engineering Trivandrum\n",
    "Dear {company} Team,\n",
    "I hope this message finds you well. I am Dr. Unnikrishnan M, Placement Officer at College of Engineering Trivandrum (CET, www.cet.ac.in), a premier Engineering institution in India owned by the Government of Kerala. We understand that {company} is a global technology consulting and services company in India. I am writing this mail to extend a sincere request to include our students in the future placement processes for fresh graduates in your esteemed organisation. With an NIRF rank of 108 and a KIRF rank of 1, our college is committed to nurturing the next generation of innovators and leaders in the field. \n",
    "\n",
    "We believe that below are the reasons why CET can be considered\n",
    "1. Excellent Academic Reputation: CET is known for its top-notch education, producing highly skilled engineers. Our graduates are equipped with robust theoretical foundation and practical experience in various engineering disciplines, which includes Computer Science, Mechanical, Civil, Electrical, Electronics, MBA, MCA, Post graduate and Doctoral work etc.\n",
    "2. Strong Industry Connections: CET, the Oldest Engineering college in Kerala with 50,000 plus alumni holding leadership positions across the globe, has established strong ties with industries, providing students with valuable opportunities for internships and placements. This collaboration ensures that CET graduates are well-prepared for the industry and familiar with real-world engineering practices.\n",
    "3. Focus on Innovation: CET encourages innovation and fosters a culture of creativity among its students. This focus on innovation equips graduates with the ability to think outside the box and find innovative solutions to complex problems.\n",
    "We would be privileged if {company} accept our invite to visit the campus to conduct a campus recruitment at your convenience. Our final years will complete their exams by April 25. Please let us know your availability, and we will be happy to accommodate your schedule\n",
    "\n",
    "Best regards,  \n",
    "Dr. Unnikrishnan M.\n",
    "Training and Placement Officer,\n",
    "College of Engineering Trivandrum\n",
    "\"\"\"\n",
    "\n",
    "\n",
    "for i, company in enumerate(companies, start=1):\n",
    "    doc = Document()\n",
    "    email_text = email_template.format(company=company)\n",
    "    for line in email_text.strip().split(\"\\n\"):\n",
    "        doc.add_paragraph(line.strip())\n",
    "\n",
    "    filename = f\"email_{i}_{company}.docx\"\n",
    "    file_path = os.path.join(folder_name, filename)\n",
    "    doc.save(file_path)\n",
    "\n",
    "print(f\"Word documents saved in: '{folder_name}' folder\")"
   ]
  },
  {
   "cell_type": "code",
   "execution_count": null,
   "id": "6d344b7b-68ac-4aea-b423-c6d485a91c75",
   "metadata": {},
   "outputs": [],
   "source": []
  },
  {
   "cell_type": "code",
   "execution_count": null,
   "id": "ef25c38a-c578-429a-973b-489509fcc06c",
   "metadata": {},
   "outputs": [],
   "source": []
  }
 ],
 "metadata": {
  "kernelspec": {
   "display_name": "Python 3 (ipykernel)",
   "language": "python",
   "name": "python3"
  },
  "language_info": {
   "codemirror_mode": {
    "name": "ipython",
    "version": 3
   },
   "file_extension": ".py",
   "mimetype": "text/x-python",
   "name": "python",
   "nbconvert_exporter": "python",
   "pygments_lexer": "ipython3",
   "version": "3.12.7"
  }
 },
 "nbformat": 4,
 "nbformat_minor": 5
}
