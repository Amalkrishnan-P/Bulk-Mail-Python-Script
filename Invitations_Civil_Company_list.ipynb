{
 "cells": [
  {
   "cell_type": "code",
   "execution_count": 4,
   "id": "01d74a88-e3f4-44e4-af66-aadfd83d5473",
   "metadata": {},
   "outputs": [
    {
     "name": "stdout",
     "output_type": "stream",
     "text": [
      "All invitations created.\n"
     ]
    }
   ],
   "source": [
    "import os\n",
    "import zipfile\n",
    "import shutil\n",
    "\n",
    "# Company list\n",
    "companies = [\n",
    "    \"Saint-Gobain\",\n",
    "    \"Ultratech Cement\",\n",
    "    \"Al-Adrak (Al Adrak Trading and Contracting)\",\n",
    "    \"Shapoorji Pallonji\",\n",
    "    \"Aarbee (Aarbee Structures Pvt. Ltd.)\",\n",
    "    \"Larsen and Toubro\",\n",
    "    \"SOBHA Limited\",\n",
    "    \"Ethios Group\"\n",
    "]\n",
    "\n",
    "\n",
    "# Description\n",
    "Description = [\n",
    "    \"is a global leader in innovative construction materials and sustainable habitat solutions, driving excellence in light and sustainable building technologies.\",\n",
    "    \"is a pioneering force in India’s cement industry, championing quality, sustainability, and cutting-edge infrastructure development.\",\n",
    "    \"is a dynamic leader in construction and contracting, renowned for its commitment to quality, precision engineering, and large-scale infrastructure delivery.\",\n",
    "    \"is a globally diversified conglomerate delivering end-to-end solutions in engineering, real estate, and infrastructure, known for its iconic megastructures and sustainability focus.\",\n",
    "    \"is a trusted name in India’s pre-engineered steel construction sector, offering cost-effective and durable structural solutions with engineering precision.\",\n",
    "    \"is a trailblazer in engineering and construction, setting national benchmarks in innovation, infrastructure, and turnkey project execution.\",\n",
    "    \"is a leading real estate developer in India, celebrated for its vertically integrated model, luxury developments, and unwavering commitment to quality and sustainability.\",\n",
    "    \"is a visionary in construction chemicals and luxury interiors, elevating industry standards with innovative brands and world-class mega-construction expertise.\"\n",
    "]\n",
    "\n",
    "\n",
    "\n",
    "# Paths\n",
    "template_path = \"Invitation_IE_2.docx\"\n",
    "output_folder = \"Invitation_Civil_Company_list\"\n",
    "os.makedirs(output_folder, exist_ok=True)\n",
    "\n",
    "def generate_personalized_doc(company_name,Description, index):\n",
    "    # temp folder for unzip/edit\n",
    "    temp_folder = f\"temp_{index}\"\n",
    "    if os.path.exists(temp_folder):\n",
    "        shutil.rmtree(temp_folder)\n",
    "    os.makedirs(temp_folder)\n",
    "\n",
    "    with zipfile.ZipFile(template_path, 'r') as zip_ref:\n",
    "        zip_ref.extractall(temp_folder)\n",
    "\n",
    "    # document.xml (main body)\n",
    "    doc_path = os.path.join(temp_folder, \"word\", \"document.xml\")\n",
    "    with open(doc_path, \"r\", encoding=\"utf-8\") as file:\n",
    "        content = file.read()\n",
    "\n",
    "    # replace placeholder\n",
    "    content = content.replace(\"[Company Name]\", company_name)\n",
    "    content = content.replace(\"[Description]\", description)\n",
    "    \n",
    "    # write back modified content\n",
    "    with open(doc_path, \"w\", encoding=\"utf-8\") as file:\n",
    "        file.write(content)\n",
    "\n",
    "    # create new docx\n",
    "    output_docx = os.path.join(output_folder, f\"Invitation_{index}_{company_name.replace(' ', '_')}.docx\")\n",
    "    shutil.make_archive(\"temp_doc\", 'zip', temp_folder)\n",
    "    shutil.move(\"temp_doc.zip\", output_docx)\n",
    "\n",
    "    # delete temp\n",
    "    shutil.rmtree(temp_folder)\n",
    "\n",
    "for idx, (company, description) in enumerate(zip(companies, Description), 1):\n",
    "    generate_personalized_doc(company, description, idx)\n",
    "\n",
    "shutil.make_archive('Invitation_Civil_Company_list', 'zip', 'Invitation_Civil_Company_list')\n",
    "print(f\"All invitations created.\")"
   ]
  },
  {
   "cell_type": "code",
   "execution_count": null,
   "id": "9df77b02-f34a-4976-bbcc-9b97be140fdd",
   "metadata": {},
   "outputs": [],
   "source": []
  }
 ],
 "metadata": {
  "kernelspec": {
   "display_name": "Python [conda env:base] *",
   "language": "python",
   "name": "conda-base-py"
  },
  "language_info": {
   "codemirror_mode": {
    "name": "ipython",
    "version": 3
   },
   "file_extension": ".py",
   "mimetype": "text/x-python",
   "name": "python",
   "nbconvert_exporter": "python",
   "pygments_lexer": "ipython3",
   "version": "3.12.7"
  }
 },
 "nbformat": 4,
 "nbformat_minor": 5
}
